{
 "cells": [
  {
   "cell_type": "code",
   "execution_count": 1,
   "metadata": {},
   "outputs": [
    {
     "name": "stdout",
     "output_type": "stream",
     "text": [
      "/data/home/eak/learning/llm_finetuning/specializing-llm-telecom\n"
     ]
    }
   ],
   "source": [
    "%cd .."
   ]
  },
  {
   "cell_type": "code",
   "execution_count": 2,
   "metadata": {},
   "outputs": [],
   "source": [
    "import os\n",
    "\n",
    "os.environ[\"TOKENIZERS_PARALLELISM\"] = \"true\"\n",
    "os.environ[\"CUDA_DEVICE_ORDER\"] = \"PCI_BUS_ID\"\n",
    "os.environ[\"CUDA_VISIBLE_DEVICES\"] = \"0\"\n",
    "\n",
    "import json\n",
    "\n",
    "import pandas as pd\n",
    "import numpy as np\n",
    "from matplotlib import pyplot as plt\n",
    "\n",
    "MODEL_PATH = \"unsloth/llama-3-8b-Instruct-bnb-4bit\"  #\"unsloth/gemma-1.1-2b-it\" # \"unsloth/llama-3-8b-Instruct-bnb-4bit\"\n",
    "# MODEL_PATH = \"unsloth/tinyllama-bnb-4bit\""
   ]
  },
  {
   "cell_type": "code",
   "execution_count": 3,
   "metadata": {},
   "outputs": [
    {
     "name": "stdout",
     "output_type": "stream",
     "text": [
      "🦥 Unsloth: Will patch your computer to enable 2x faster free finetuning.\n"
     ]
    }
   ],
   "source": [
    "from unsloth import FastLanguageModel\n",
    "import torch\n",
    "from trl import SFTTrainer\n",
    "from transformers import TrainingArguments, AutoTokenizer\n",
    "from peft import PeftModelForCausalLM"
   ]
  },
  {
   "cell_type": "code",
   "execution_count": 4,
   "metadata": {},
   "outputs": [
    {
     "name": "stdout",
     "output_type": "stream",
     "text": [
      "==((====))==  Unsloth: Fast Llama patching release 2024.6\n",
      "   \\\\   /|    GPU: NVIDIA RTX A6000. Max memory: 47.438 GB. Platform = Linux.\n",
      "O^O/ \\_/ \\    Pytorch: 2.1.1+cu118. CUDA = 8.6. CUDA Toolkit = 11.8.\n",
      "\\        /    Bfloat16 = TRUE. Xformers = 0.0.23+cu118. FA = False.\n",
      " \"-____-\"     Free Apache license: http://github.com/unslothai/unsloth\n"
     ]
    },
    {
     "name": "stderr",
     "output_type": "stream",
     "text": [
      "Special tokens have been added in the vocabulary, make sure the associated word embeddings are fine-tuned or trained.\n"
     ]
    }
   ],
   "source": [
    "max_seq_length = 4096 # Choose any! We auto support RoPE Scaling internally!\n",
    "dtype = None # None for auto detection. Float16 for Tesla T4, V100, Bfloat16 for Ampere+\n",
    "load_in_4bit = True # Use 4bit quantization to reduce memory usage. Can be False.\n",
    "\n",
    "\n",
    "result: tuple[PeftModelForCausalLM, AutoTokenizer] = FastLanguageModel.from_pretrained(\n",
    "\tmodel_name = MODEL_PATH,\n",
    "\tmax_seq_length = max_seq_length,\n",
    "\tdtype = dtype,\n",
    "\tload_in_4bit = load_in_4bit,\n",
    "\t# token = \"hf_...\", # use one if using gated models like meta-llama/Llama-2-7b-hf\n",
    ")\n",
    "model: PeftModelForCausalLM = result[0]\n",
    "tokenizer: AutoTokenizer = result[1]"
   ]
  },
  {
   "cell_type": "code",
   "execution_count": 17,
   "metadata": {},
   "outputs": [],
   "source": [
    "import json\n",
    "\n",
    "QUERY = \"\"\"\n",
    "Please generate <num_questions>{NUM_QUESTIONS}</num_questions> questions based on the provided context about 3GPP (3rd Generation Partnership Project, standards for 3G (third generation), 4G (fourth generation), and 5G (fifth generation) mobile networks).\n",
    "\n",
    "Carefully analyze the given context and create questions that can be unambiguously answered using only the information provided. Avoid questions that would require external knowledge to answer.\n",
    "\n",
    "For each question you create:\n",
    "- Enclose the question text within \"question\" quotes.\n",
    "- Generate 5 plausible answer options based on the context, labeling them as \"option 1\", \"option 2\", etc.\n",
    "- Indicate the correct answer inside \"answer\" quotes, referencing the option number.\n",
    "- Provide a short explanation supporting the correct answer within \"context\" quotes.\n",
    "\n",
    "Output each complete question with its answer options and correct answer inside <qa> tags, using this format:\n",
    "\n",
    "<qa>\n",
    "question: Question text goes here\n",
    "option 1: First answer option\n",
    "option 2: Second answer option\n",
    "option 3: Third answer option\n",
    "option 4: Fourth answer option\n",
    "option 5: Fifth answer option\n",
    "answer: option X: correct answer text\n",
    "context: Brief explanation supporting the correct answer\n",
    "</qa>\n",
    "\n",
    "Additional guidelines:\n",
    "- Generate unique questions without repetition.\n",
    "- Avoid overusing phrases like \"What is the purpose of...\" when formulating questions.\n",
    "- Create diverse question types (e.g., multiple-choice, true/false, fill-in-the-blank) to test different aspects of understanding.\n",
    "- Context has been randomly extracted from the document so, number at the beginning of the text may be related to section number, and not directly related to the context\n",
    "- Focus on key concepts, technologies, and processes related to 3GPP mentioned in the context.\n",
    "- Include questions about specific standards, releases, or technical specifications if mentioned.\n",
    "- When appropriate, ask about relationships between different elements or compare and contrast various aspects of 3GPP.\n",
    "- Avoid adding extra text at the end or the begining of generation\n",
    "\n",
    "Here is the context to generate questions from:\n",
    "\n",
    "<context>\n",
    "{CONTEXT}\n",
    "</context>\n",
    "\"\"\""
   ]
  },
  {
   "cell_type": "code",
   "execution_count": 20,
   "metadata": {},
   "outputs": [],
   "source": [
    "NUM_QUESTIONS = 5\n",
    "\n",
    "CONTEXT = \"\"\"\n",
    "The \" Integration of satellite components in the 5G architecture” work item adds or enhances a number of features in 5GCore architecture in order to support Non-Terrestrial Networks (NTN), for several use cases:\n",
    "\n",
    "Coverage extension: Many commercial activities, such as agriculture, mining, forestry take place outside inhabited areas. Coverage extension with satellite networks is useful to enable e.g. voice communication, video monitoring, and remote control in uncovered or under-covered areas. \n",
    "\n",
    "Internet of Things: many Internet-of-Things applications relate to monitoring of assets (e.g. ships, trains, trucks), infrastructure (e.g. bridges, pipelines, railway track), or the environment (e.g. agriculture sensors). In many IoT applications, only small amounts of data are exchanged and communication is optimized for low power usage. Satellite communication should also be able to address these requirements.\n",
    "\n",
    "Disaster communication: Public safety authorities have a responsibility to provide assistance in case of natural disasters. This requires communication, also in cases where because of that disaster the cellular infrastructure is damaged. Satellite communication can be used as fall back for these cases. Ideally the user equipment (UE) and way of working when cellular networks are available should also be usable with satellite access.\n",
    "\n",
    "Global roaming: Applications like tracking and tracing of containers need to be available globally across satellite and terrestrial networks. When a container is in a harbour or transported on a truck, using a terrestrial cellular network is probably most efficient. However, when the container is on a ship in the middle of an ocean, only satellite communication is possible.\n",
    "\n",
    "Broadcasting: Satellite communication is particularly suitable to broadcast the same information over a very wide area. This can also be used in context of 5G mobile edge applications (e.g. mobile gaming), where application content needs to be available in many different edge locations.\n",
    "\n",
    "To address such use cases, 3GPP has set Key Performance Indicator (KPI) targets for satellite in TS 22.261 [1].\n",
    "\n",
    "At 5G Core Network architecture level, in SA2, a dedicated study on architecture aspects for using satellite access in 5G (FS_5GSAT_ARCH) was conducted to select the solutions able to cope with satellite specific key issues. The outcome of the study (TR 23.737 [2]) identifies the impacts of satellite integration in the 5GS and solutions to adjust the 5G system accordingly. \n",
    "\n",
    "The 5GSAT_ARCH work item, following the study, updated architecture specifications (TS 23.501 [4], TS 23.502 [5], TS 23.503 [6]) to implement the solutions identified. \n",
    "\n",
    "In CT1, TR 24.821 [3] studied \"Non-Terrestrial Impact of PLMN selection procedure\" and, following 5GSAT_ARCH_CT, led to update TS 23.122 [7] and TS 24.501 [8]. \n",
    "\n",
    "Furthermore, RAN has defined \"3GPP defined radio access networks supporting non-Terrestrial Networks\" [10], described in the next clause.\n",
    "\n",
    "Architectural/general aspects\n",
    "\n",
    "A PLMN core network can be connected to a satellite NG-RAN. A satellite NG-RAN can be shared between more than one core networks. \n",
    "\n",
    "Satellite NG-RAN can be used as a new RAN 3GPP access but also as backhaul between the core and terrestrial access network, providing a transport for the N1/N2/N3 reference points.\n",
    "\n",
    "Multi-connectivity and URLLC over satellite are not considered in Rel-17. Basic assumptions are that UEs are equipped with GNSS, and transparent mode: satellites (LEO/MEO/GEO) are relaying the Uu interface only at physical layer level.\n",
    "\n",
    "Impacts on 5GC of Satellite NG-RAN used as new RAN 3GPP access\n",
    "\n",
    "In Rel-17, only direct access with transparent satellite is considered, as shown in following figure:\n",
    "\n",
    " \n",
    "\n",
    "Figure 1: Direct access with transparent satellite\n",
    "\n",
    "Impacts of satellites onto 5GS are linked to the size of the cells (larger than the terrestrial ones), the fact that the satellite cells can be fix on earth, when beam is steerable, but also moving on earth, when beam is not steerable. This characteristics impacts 5GS mobility management, i.e. the management of the handover of radio bearer between nodes and the management of the reachability of a UE for downlink services (paging), that need to be adapted to take into account both the satellite beam size and fix or moving cells configuration. \n",
    "\n",
    "A basic assumption in Re-17 is that tracking areas (TAs) and cell identities (cell IDs) refer to specific geographical areas, so that 5G services can use these identifiers as representation of a UE location. \n",
    "\n",
    "To avoid Tracking Area Codes (TAC) fluctuations, in the moving cells case, it has been decided that the Radio Access Network will broadcast in the cell the list of Tracking Area Codes, corresponding to tracking areas that have been define on the earth surface through network planning, for the zone currently enlighten by the radio cell. \n",
    "\n",
    "New Radio Access Technology types are introduced in the 5GC to distinguish between different satellite configurations (LEO, MEO, GEO, other).\n",
    "\n",
    "The distance earth – satellite also introduces higher delay values than for terrestrial cells and new 5QI is also introduced in TR 23.501 [4] to cope with this delay, depending on the satellite RAT type.  \n",
    "\n",
    "Impacts on 5GC of Satellite NG-RAN used as backhaul\n",
    "\n",
    "Rel-17 only considers backhauling with constant delay. Here, the satellite operator is able to mask any delay changes in service/feeder links by exploiting the knowledge of the satellite position to calculate how much variable delay should be added to keep the overall delay constant. Connecting gNBs to 5GC via, e.g., a single GEO satellite or a single NGSO satellite without ISLs are examples of such backhauling as shown in following figure.\n",
    "\"\"\""
   ]
  },
  {
   "cell_type": "code",
   "execution_count": 7,
   "metadata": {},
   "outputs": [],
   "source": [
    "# alpaca_prompt = Copied from above\n",
    "FastLanguageModel.for_inference(model) # Enable native 2x faster inference\n",
    "\n",
    "from transformers import TextStreamer\n",
    "text_streamer = TextStreamer(tokenizer, skip_prompt=True)"
   ]
  },
  {
   "cell_type": "code",
   "execution_count": 21,
   "metadata": {},
   "outputs": [
    {
     "data": {
      "text/plain": [
       "7852"
      ]
     },
     "execution_count": 21,
     "metadata": {},
     "output_type": "execute_result"
    }
   ],
   "source": [
    "text = QUERY.format(NUM_QUESTIONS=NUM_QUESTIONS, CONTEXT=CONTEXT)\n",
    "\n",
    "len(text)"
   ]
  },
  {
   "cell_type": "code",
   "execution_count": 22,
   "metadata": {},
   "outputs": [],
   "source": [
    "chat = [\n",
    "\t{\"role\": \"user\", \"content\": text},\n",
    "]\n",
    "prompt = tokenizer.apply_chat_template(\n",
    "\tchat, tokenize=False, add_generation_prompt=True\n",
    ")"
   ]
  },
  {
   "cell_type": "code",
   "execution_count": 23,
   "metadata": {},
   "outputs": [],
   "source": [
    "inputs = tokenizer(\n",
    "\tprompt, return_tensors = \"pt\", padding=True, truncation=True\n",
    ").to(\"cuda\")"
   ]
  },
  {
   "cell_type": "code",
   "execution_count": 24,
   "metadata": {},
   "outputs": [
    {
     "name": "stderr",
     "output_type": "stream",
     "text": [
      "Setting `pad_token_id` to `eos_token_id`:128001 for open-end generation.\n"
     ]
    },
    {
     "name": "stdout",
     "output_type": "stream",
     "text": [
      "Here are 5 questions based on the provided context about 3GPP and satellite networks:\n",
      "\n",
      "<qa>\n",
      "question: What is the primary purpose of the \"Integration of satellite components in the 5G architecture\" work item?\n",
      "option 1: To improve 5G network security\n",
      "option 2: To support Non-Terrestrial Networks (NTN) and various use cases\n",
      "option 3: To enhance 5G network performance\n",
      "option 4: To reduce latency in 5G networks\n",
      "option 5: To increase network coverage\n",
      "answer: option 2\n",
      "context: The work item aims to add or enhance features in 5G Core architecture to support Non-Terrestrial Networks (NTN) and various use cases, such as coverage extension, Internet of Things, disaster communication, global roaming, and broadcasting.\n",
      "</qa>\n",
      "\n",
      "<qa>\n",
      "question: What is the primary use case for satellite communication in disaster scenarios?\n",
      "option 1: Providing high-speed internet access\n",
      "option 2: Enabling voice communication and video monitoring\n",
      "option 3: Supporting remote control of critical infrastructure\n",
      "option 4: Providing global roaming services\n",
      "option 5: Enhancing network security\n",
      "answer: option 2\n",
      "context: Satellite communication can be used as a fall-back option in disaster scenarios, enabling voice communication and video monitoring, even when the cellular infrastructure is damaged.\n",
      "</qa>\n",
      "\n",
      "<qa>\n",
      "question: What is the primary characteristic of satellite cells that impacts 5G mobility management?\n",
      "option 1: Larger cell size\n",
      "option 2: Smaller cell size\n",
      "option 3: Fixed cell size\n",
      "option 4: Moving cell size\n",
      "option 5: Steerable beam\n",
      "answer: option 1\n",
      "context: Satellite cells can have larger cell sizes, which impacts 5G mobility management, requiring adaptations for handover of radio bearers and reachability of UEs.\n",
      "</qa>\n",
      "\n",
      "<qa>\n",
      "question: What is the purpose of broadcasting in satellite communication?\n",
      "option 1: To provide high-speed internet access\n",
      "option 2: To enable global roaming services\n",
      "option 3: To support remote control of critical infrastructure\n",
      "option 4: To broadcast the same information over a wide area\n",
      "option 5: To enhance network security\n",
      "answer: option 4\n",
      "context: Satellite communication is particularly suitable for broadcasting the same information over a wide area, which can be used in 5G mobile edge applications, such as mobile gaming.\n",
      "</qa>\n",
      "\n",
      "<qa>\n",
      "question: What is the primary assumption in Rel-17 regarding UE location representation?\n",
      "option 1: UE location is represented by cell ID\n",
      "option 2: UE location is represented by Tracking Area Code (TAC)\n",
      "option 3: UE location is represented by geographical coordinates\n",
      "option 4: UE location is represented by satellite beam ID\n",
      "option 5: UE location is represented by network planning\n",
      "answer: option 2\n",
      "context: In Rel-17, it is assumed that tracking areas (TAs) and cell identities (cell IDs) refer to specific geographical areas, allowing 5G services to use these identifiers as a representation of a UE location.<|eot_id|>\n"
     ]
    }
   ],
   "source": [
    "predicted = model.generate(**inputs, streamer = text_streamer, max_new_tokens = 2096,)"
   ]
  },
  {
   "cell_type": "code",
   "execution_count": 12,
   "metadata": {},
   "outputs": [],
   "source": [
    "CONTEXT = \"\"\"\n",
    "Introduction\n",
    "\n",
    "Clause 6.1 explains the relationship in Rel-14 between TS 22.179 (MCPTT), TS 22.280 (MCCoRe), TS 22.281 (MCVideo) and TS 22.282 (MCData).\n",
    "\n",
    "This clause deals more specifically with TS 22.280, which provides the MCPTT requirements applicable by two or more mission critical services, referred to as \"MCX\" (Mission Critical X, with X = PTT or X = MCVideo or X = Data).\n",
    "\n",
    "Overview of TS 22.280 on MCPTT Common Requirements\n",
    "\n",
    "TS 22.280 follows the same overall structure as TS 22.179, the main clauses being: \"on-network\", \"off-network\" or common. TS 22.280 also specifies other types of MCX Service capabilities: Inter-MCX Service interworking, Air ground air communication and MCX Service in IOPS mode.\n",
    "\n",
    "Some MCX service capabilities common to \"on-network\" and \"off-network\" are:\n",
    "\n",
    "General Group Communication, Broadcast Group Communication, Late Communication Entry, Receiving from multiple MCX Service communication, Private Communication, MCX Service Priority, MCX Service User ID, MCX UE Management and User Profile, Support for multiple devices, Location, Security and Media quality.\n",
    "\n",
    "Relay and Gateway capability, Control and management by Mission Critical Organizations, General administrative –groups and users, open interfaces for MCX Services, Media forwarding, Receipt notification and additional services for MCX Service communications.\n",
    "\n",
    "Some MCX service capabilities specific to \"on-network\" are:\n",
    "\n",
    "General administrative groups and users, MCX Service communications with notification and acknowledgement for Group Communications and Queuing, General capabilities, General MCX Service Group Communications and Broadcast Group Communication.\n",
    "\n",
    "Dynamic Group management (i.e., dynamic regrouping), Private Communication, MCX Service Priority, IDs and aliases, MCX Service User Profile management, Support for multiple devices, Location, Security, Interactions for MCX Service Group and Private Communications, Additional Services (including Discreet and Ambient Listening, Remotely initiated Communication as well as recording and audit requirements).\n",
    "\n",
    "Interaction with telephony services, Interworking ( including non-3GPP access and Interworking between MCX Service systems), MCX Service coverage extension using ProSe UE-to-Network Relays and Additional MCX Services related to Communication rejection and queuing.\n",
    "\n",
    "Some MCX service capabilities specific to \"off-network\" are:\n",
    "\n",
    "General off-network MCX Services, Admission control, Communication termination, Broadcast Group, MCX Service priority requirements, Communication types based on priority, Location, Security, Off-Network operations and UE functionality, Streaming for ProSe UE-to-UE and UE-to-Network Relay, Switching to off-network MCX Service, Off-network recording and audit, and Off-Network UE-to-UE Relay for Private and Group communications\n",
    "\n",
    "Finally, here are some examples of Inter-MCX Service interworking requirements:\n",
    "\n",
    "Concurrent operation of different MCX Services, Use of un-sharable resources within a UE, Single group with multiple MCX Services, Priority between services,\n",
    "\n",
    "6.4 Mission Critical Video over LTE\n",
    "\n",
    "Summary based on the input provided by Huawei in SP-170767.\n",
    "\n",
    "Introduction\n",
    "\n",
    "Clause 6.1 above explains the relationship in Rel-14 between TS 22.179 (MCPTT), TS 22.280 (MCCoRe), TS 22.281 (MCVideo) and TS 22.282 (MCData).\n",
    "\n",
    "This clause deals more specifically with TS 22.281, which provides the MCPTT requirements applicable to MC Video, and the corresponding Stage 2 in 23.281.\n",
    "\n",
    "The MCImp-MCVideo work item specifies the MCVideo service communications to support on-network and off-network operations. It defines the identities, procedures, information flows and related configurations corresponding to UE, user profile, group and service.\n",
    "\n",
    "It specifies video media communication between several users (i.e. group call or private call), where each user has the ability to gain access to the permission to stream video in an arbitrated manner for on-network and off-network operations.\n",
    "\n",
    "The Stage 2 (Architecture) for MCVideo is organized as the Stage 1, i.e.:\n",
    "\n",
    "TS 23.280 specifies the common functional architecture aspects service including the common services core and the generic mechanisms like UE-to-network relay, affiliation and emergency alerts. These common aspects applies to MCVideo; and\n",
    "\n",
    "TS 23.281, specifically dedicated to MCVideo. It specifies the MCVideo service functional architecture, procedures, information flows and related configuration information .\n",
    "\n",
    "Overview of TS 22.281 on MCPTT Video\n",
    "\n",
    "The MCVideo service capabilities specified for on-network operations are:\n",
    "\n",
    "MCVideo group affiliation, MCVideo group de-affiliation and remote change of affiliation to MCVideo groups.\n",
    "\n",
    "Group call setup, group call release, late entry to group call and re-joining a group call enabled for pre-arranged groups. Group call setup up, group call release, joining a group call and re-joining a group call enabled for chat groups. Exiting a group call due to de-affiliation is applicable for pre-arranged and chat group calls.\n",
    "\n",
    "Emergency group call commencement, emergency group call cancel and upgrade of a group call to emergency group call.\n",
    "\n",
    "Imminent peril group call commencement, imminent peril group call cancel and upgrade of a group call to imminent peril group call.\n",
    "\n",
    "Emergency alert initiation and emergency state cancel (applicable for group calls)\n",
    "\n",
    "Private call setup in automatic and manual commencement mode.\n",
    "\n",
    "Transmission initiation and control, remotely initiated transmission, transmission revoke, transmission cancel, transmission queued, user or server initiated transmission cancel from queue and user or remote authorized user or server initiated transmission end.\n",
    "Reception initiation and control, user or server initiated reception and mandatory or negotiated reception override.\n",
    "\n",
    "Configurations for MCVideo service pertaining to UE, user profile, service and group.\n",
    "\n",
    "User authentication (see TS 24.482) and MCVideo service authorization.\n",
    "\n",
    "The MCVideo service capabilities specified for off-network operations are:\n",
    "\n",
    "Group communication setup, active join to group communication, passive join to group communication and group communication release due to inactivity.\n",
    "\n",
    "Emergency group communication commencement, emergency group communication cancel and upgrade of a group communication to emergency group communication.\n",
    "\n",
    "Imminent peril group communication commencement, imminent peril group communication cancel and upgrade of a group communication to imminent peril group communication.\n",
    "\n",
    "Emergency alert initiation and emergency state cancel (applicable for group calls).\n",
    "\n",
    "Private call setup in automatic and manual commencement mode.\n",
    "\n",
    "Granting a transmission, rejecting a transmission, releasing a transmission, overriding a transmission due to limit of maximum simultaneous transmissions reached and handling simultaneous transmissions.\n",
    "\n",
    "Transmission control in single arbitration or self-arbitration modes, overriding a transmission of a single arbitrator and assignment of a new transmission arbitrator, releasing a transmission arbitrator and delegating a new transmission arbitrator when releasing.\n",
    "\n",
    "Configurations for MCVideo service pertaining to UE, user profile, service and group. (see TS 24.481, TS 24.483 and TS 24.484)\n",
    "\n",
    "The MCVideo service communications uses H.264 (AVC) codec as specified in TS 26.281. Based on operator or MCVideo service provider policy, the MCVideo service may optionally and additionally support the H.265 (HEVC) codec as specified in TS 26.281. If MCVideo service supports combined or separate handling of video and audio streams, then MCPTT audio codecs may be supported as specified in TS 26.179. The media transport protocols supported for MCVideo service are RTP and SRTP as specified in TS 26.281.\n",
    "\"\"\""
   ]
  },
  {
   "cell_type": "code",
   "execution_count": 13,
   "metadata": {},
   "outputs": [],
   "source": [
    "text = QUERY.format(NUM_QUESTIONS=NUM_QUESTIONS, CONTEXT=CONTEXT)\n",
    "chat = [\n",
    "\t{\"role\": \"user\", \"content\": text},\n",
    "]\n",
    "prompt = tokenizer.apply_chat_template(\n",
    "\tchat, tokenize=False, add_generation_prompt=True\n",
    ")"
   ]
  },
  {
   "cell_type": "code",
   "execution_count": 14,
   "metadata": {},
   "outputs": [],
   "source": [
    "inputs = tokenizer(\n",
    "\tprompt, return_tensors = \"pt\", padding=True, truncation=True\n",
    ").to(\"cuda\")"
   ]
  },
  {
   "cell_type": "code",
   "execution_count": 15,
   "metadata": {},
   "outputs": [
    {
     "name": "stderr",
     "output_type": "stream",
     "text": [
      "Setting `pad_token_id` to `eos_token_id`:128001 for open-end generation.\n"
     ]
    },
    {
     "name": "stdout",
     "output_type": "stream",
     "text": [
      "Here are 5 questions based on the provided context:\n",
      "\n",
      "<qa>\n",
      "question: What is the purpose of TS 22.280 in the context of MCPTT?\n",
      "option 1: To specify the requirements for MCPTT in Rel-14\n",
      "option 2: To provide the architecture for MCPTT in Rel-14\n",
      "option 3: To specify the requirements for MCVideo in Rel-14\n",
      "option 4: To provide the architecture for MCVideo in Rel-14\n",
      "option 5: To specify the requirements for MCData in Rel-14\n",
      "answer: option 1: To specify the requirements for MCPTT in Rel-14\n",
      "context: TS 22.280 provides the MCPTT requirements applicable by two or more mission critical services, referred to as \"MCX\" (Mission Critical X, with X = PTT or X = MCVideo or X = Data).\n",
      "</qa>\n",
      "\n",
      "<qa>\n",
      "question: What is the main clause structure of TS 22.280?\n",
      "option 1: \"on-network\", \"off-network\", and \"common\"\n",
      "option 2: \"on-network\", \"off-network\", and \"specific\"\n",
      "option 3: \"on-network\", \"off-network\", and \"general\"\n",
      "option 4: \"on-network\", \"off-network\", and \"common\" and \"specific\"\n",
      "option 5: \"on-network\", \"off-network\", and \"common\" and \"general\"\n",
      "answer: option 1: \"on-network\", \"off-network\", and \"common\"\n",
      "context: TS 22.280 follows the same overall structure as TS 22.179, the main clauses being: \"on-network\", \"off-network\" or common.\n",
      "</qa>\n",
      "\n",
      "<qa>\n",
      "question: What is the purpose of TS 23.281 in the context of MCVideo?\n",
      "option 1: To specify the requirements for MCPTT in Rel-14\n",
      "option 2: To provide the architecture for MCVideo in Rel-14\n",
      "option 3: To specify the requirements for MCData in Rel-14\n",
      "option 4: To provide the architecture for MCPTT in Rel-14\n",
      "option 5: To specify the requirements for MCVideo in Rel-14\n",
      "answer: option 2: To provide the architecture for MCVideo in Rel-14\n",
      "context: TS 23.281 specifies the MCVideo service functional architecture, procedures, information flows and related configuration information.\n",
      "</qa>\n",
      "\n",
      "<qa>\n",
      "question: What is the codec used by MCVideo service in TS 26.281?\n",
      "option 1: H.264 (AVC)\n",
      "option 2: H.265 (HEVC)\n",
      "option 3: Both H.264 (AVC) and H.265 (HEVC)\n",
      "option 4: RTP and SRTP\n",
      "option 5: None of the above\n",
      "answer: option 1: H.264 (AVC)\n",
      "context: The MCVideo service communications uses H.264 (AVC) codec as specified in TS 26.281.\n",
      "</qa>\n",
      "\n",
      "<qa>\n",
      "question: What is the purpose of TS 24.482 in the context of MCVideo?\n",
      "option 1: To specify the requirements for MCPTT in Rel-14\n",
      "option 2: To provide the architecture for MCVideo in Rel-14\n",
      "option 3: To specify the requirements for MCData in Rel-14\n",
      "option 4: To provide the architecture for MCPTT in Rel-14\n",
      "option 5: To specify the user authentication and MCVideo service authorization\n",
      "answer: option 5: To specify the user authentication and MCVideo service authorization\n",
      "context: User authentication (see TS 24.482) and MCVideo service authorization are specified in the context of MCVideo service.\n",
      "</qa>\n",
      "\n",
      "Let me know if you need any further assistance!<|eot_id|>\n"
     ]
    }
   ],
   "source": [
    "predicted = model.generate(**inputs, streamer = text_streamer, max_new_tokens = 2096,)"
   ]
  },
  {
   "cell_type": "code",
   "execution_count": 16,
   "metadata": {},
   "outputs": [
    {
     "data": {
      "text/plain": [
       "9997"
      ]
     },
     "execution_count": 16,
     "metadata": {},
     "output_type": "execute_result"
    }
   ],
   "source": [
    "len(prompt)"
   ]
  },
  {
   "cell_type": "code",
   "execution_count": null,
   "metadata": {},
   "outputs": [],
   "source": []
  }
 ],
 "metadata": {
  "kernelspec": {
   "display_name": ".venv",
   "language": "python",
   "name": "python3"
  },
  "language_info": {
   "codemirror_mode": {
    "name": "ipython",
    "version": 3
   },
   "file_extension": ".py",
   "mimetype": "text/x-python",
   "name": "python",
   "nbconvert_exporter": "python",
   "pygments_lexer": "ipython3",
   "version": "3.9.18"
  }
 },
 "nbformat": 4,
 "nbformat_minor": 2
}

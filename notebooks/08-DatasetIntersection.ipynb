{
 "cells": [
  {
   "cell_type": "code",
   "execution_count": 1,
   "metadata": {},
   "outputs": [
    {
     "name": "stdout",
     "output_type": "stream",
     "text": [
      "/data/home/eak/learning/llm_finetuning/specializing-llm-telecom\n"
     ]
    }
   ],
   "source": [
    "%cd .."
   ]
  },
  {
   "cell_type": "code",
   "execution_count": 2,
   "metadata": {},
   "outputs": [],
   "source": [
    "import os\n",
    "import json\n",
    "\n",
    "import pandas as pd\n",
    "import numpy as np\n",
    "from matplotlib import pyplot as plt"
   ]
  },
  {
   "cell_type": "code",
   "execution_count": 21,
   "metadata": {},
   "outputs": [
    {
     "data": {
      "text/plain": [
       "(1461, 366, 10000)"
      ]
     },
     "execution_count": 21,
     "metadata": {},
     "output_type": "execute_result"
    }
   ],
   "source": [
    "training = json.load(open(\"data/zindi_data/TeleQnA_training.json\"))\n",
    "testing = json.load(open(\"data/zindi_data/TeleQnA_testing1.json\"))\n",
    "extra_dataset = json.load(open(\"data/TeleQnA.json\"))\n",
    "\n",
    "len(training), len(testing), len(extra_dataset)"
   ]
  },
  {
   "cell_type": "code",
   "execution_count": 22,
   "metadata": {},
   "outputs": [],
   "source": [
    "training = pd.DataFrame.from_dict(training).T\n",
    "testing = pd.DataFrame.from_dict(testing).T\n",
    "extra_dataset = pd.DataFrame.from_dict(extra_dataset).T\n",
    "\n",
    "training.index.name = \"Question_ID\"\n",
    "testing.index.name = \"Question_ID\"\n",
    "extra_dataset.index.name = \"Question_ID\"\n",
    "\n",
    "training.reset_index(inplace=True)\n",
    "testing.reset_index(inplace=True)\n",
    "extra_dataset.reset_index(inplace=True)"
   ]
  },
  {
   "cell_type": "code",
   "execution_count": 26,
   "metadata": {},
   "outputs": [
    {
     "data": {
      "text/html": [
       "<div>\n",
       "<style scoped>\n",
       "    .dataframe tbody tr th:only-of-type {\n",
       "        vertical-align: middle;\n",
       "    }\n",
       "\n",
       "    .dataframe tbody tr th {\n",
       "        vertical-align: top;\n",
       "    }\n",
       "\n",
       "    .dataframe thead th {\n",
       "        text-align: right;\n",
       "    }\n",
       "</style>\n",
       "<table border=\"1\" class=\"dataframe\">\n",
       "  <thead>\n",
       "    <tr style=\"text-align: right;\">\n",
       "      <th></th>\n",
       "      <th>391</th>\n",
       "      <th>1311</th>\n",
       "    </tr>\n",
       "  </thead>\n",
       "  <tbody>\n",
       "    <tr>\n",
       "      <th>Question_ID</th>\n",
       "      <td>question 2163</td>\n",
       "      <td>question 7385</td>\n",
       "    </tr>\n",
       "    <tr>\n",
       "      <th>question</th>\n",
       "      <td>Which uncertainty contribution is related to t...</td>\n",
       "      <td>What can the Hosting E-UTRAN/NG-RAN Operator c...</td>\n",
       "    </tr>\n",
       "    <tr>\n",
       "      <th>option 1</th>\n",
       "      <td>DUT antenna location estimation</td>\n",
       "      <td>Signalling traffic and user traffic independently</td>\n",
       "    </tr>\n",
       "    <tr>\n",
       "      <th>option 2</th>\n",
       "      <td>Probe antenna pattern</td>\n",
       "      <td>User traffic only</td>\n",
       "    </tr>\n",
       "    <tr>\n",
       "      <th>option 3</th>\n",
       "      <td>EIRP measurement error in NF</td>\n",
       "      <td>Signalling traffic only</td>\n",
       "    </tr>\n",
       "    <tr>\n",
       "      <th>option 4</th>\n",
       "      <td>TRP measurement error in NF</td>\n",
       "      <td>Resource allocation for each Participating Ope...</td>\n",
       "    </tr>\n",
       "    <tr>\n",
       "      <th>answer</th>\n",
       "      <td>option 5: Near-field interaction between probe...</td>\n",
       "      <td>option 1: Signalling traffic and user traffic ...</td>\n",
       "    </tr>\n",
       "    <tr>\n",
       "      <th>explanation</th>\n",
       "      <td>The uncertainty contribution related to the co...</td>\n",
       "      <td>The Hosting E-UTRAN/NG-RAN Operator needs to b...</td>\n",
       "    </tr>\n",
       "    <tr>\n",
       "      <th>category</th>\n",
       "      <td>Standards specifications</td>\n",
       "      <td>Standards specifications</td>\n",
       "    </tr>\n",
       "    <tr>\n",
       "      <th>option 5</th>\n",
       "      <td>Near-field interaction between probe antenna a...</td>\n",
       "      <td>NaN</td>\n",
       "    </tr>\n",
       "  </tbody>\n",
       "</table>\n",
       "</div>"
      ],
      "text/plain": [
       "                                                          391   \\\n",
       "Question_ID                                      question 2163   \n",
       "question     Which uncertainty contribution is related to t...   \n",
       "option 1                       DUT antenna location estimation   \n",
       "option 2                                 Probe antenna pattern   \n",
       "option 3                          EIRP measurement error in NF   \n",
       "option 4                           TRP measurement error in NF   \n",
       "answer       option 5: Near-field interaction between probe...   \n",
       "explanation  The uncertainty contribution related to the co...   \n",
       "category                              Standards specifications   \n",
       "option 5     Near-field interaction between probe antenna a...   \n",
       "\n",
       "                                                          1311  \n",
       "Question_ID                                      question 7385  \n",
       "question     What can the Hosting E-UTRAN/NG-RAN Operator c...  \n",
       "option 1     Signalling traffic and user traffic independently  \n",
       "option 2                                     User traffic only  \n",
       "option 3                               Signalling traffic only  \n",
       "option 4     Resource allocation for each Participating Ope...  \n",
       "answer       option 1: Signalling traffic and user traffic ...  \n",
       "explanation  The Hosting E-UTRAN/NG-RAN Operator needs to b...  \n",
       "category                              Standards specifications  \n",
       "option 5                                                   NaN  "
      ]
     },
     "execution_count": 26,
     "metadata": {},
     "output_type": "execute_result"
    }
   ],
   "source": [
    "training.sample(2).T"
   ]
  },
  {
   "cell_type": "code",
   "execution_count": 27,
   "metadata": {},
   "outputs": [
    {
     "data": {
      "text/html": [
       "<div>\n",
       "<style scoped>\n",
       "    .dataframe tbody tr th:only-of-type {\n",
       "        vertical-align: middle;\n",
       "    }\n",
       "\n",
       "    .dataframe tbody tr th {\n",
       "        vertical-align: top;\n",
       "    }\n",
       "\n",
       "    .dataframe thead th {\n",
       "        text-align: right;\n",
       "    }\n",
       "</style>\n",
       "<table border=\"1\" class=\"dataframe\">\n",
       "  <thead>\n",
       "    <tr style=\"text-align: right;\">\n",
       "      <th></th>\n",
       "      <th>3373</th>\n",
       "      <th>3759</th>\n",
       "    </tr>\n",
       "  </thead>\n",
       "  <tbody>\n",
       "    <tr>\n",
       "      <th>Question_ID</th>\n",
       "      <td>question 3373</td>\n",
       "      <td>question 3759</td>\n",
       "    </tr>\n",
       "    <tr>\n",
       "      <th>question</th>\n",
       "      <td>What are the proposed solutions to increase fr...</td>\n",
       "      <td>How can image resolution and sensing accuracy ...</td>\n",
       "    </tr>\n",
       "    <tr>\n",
       "      <th>option 1</th>\n",
       "      <td>New compression techniques</td>\n",
       "      <td>Using higher power RF signals</td>\n",
       "    </tr>\n",
       "    <tr>\n",
       "      <th>option 2</th>\n",
       "      <td>Wavelength-Division Multiplexing (WDM)</td>\n",
       "      <td>Using longer exposure time</td>\n",
       "    </tr>\n",
       "    <tr>\n",
       "      <th>option 3</th>\n",
       "      <td>Microwave transmission</td>\n",
       "      <td>Using multiple signals on different frequency ...</td>\n",
       "    </tr>\n",
       "    <tr>\n",
       "      <th>option 4</th>\n",
       "      <td>All of the above</td>\n",
       "      <td>Using higher resolution optical cameras</td>\n",
       "    </tr>\n",
       "    <tr>\n",
       "      <th>answer</th>\n",
       "      <td>option 4: All of the above</td>\n",
       "      <td>option 3: Using multiple signals on different ...</td>\n",
       "    </tr>\n",
       "    <tr>\n",
       "      <th>explanation</th>\n",
       "      <td>Various solutions have been proposed, includin...</td>\n",
       "      <td>Cooperatively using multiple signals on differ...</td>\n",
       "    </tr>\n",
       "    <tr>\n",
       "      <th>category</th>\n",
       "      <td>Research publications</td>\n",
       "      <td>Research publications</td>\n",
       "    </tr>\n",
       "    <tr>\n",
       "      <th>option 5</th>\n",
       "      <td>None of the above</td>\n",
       "      <td>Using wider communication channels</td>\n",
       "    </tr>\n",
       "  </tbody>\n",
       "</table>\n",
       "</div>"
      ],
      "text/plain": [
       "                                                          3373  \\\n",
       "Question_ID                                      question 3373   \n",
       "question     What are the proposed solutions to increase fr...   \n",
       "option 1                            New compression techniques   \n",
       "option 2                Wavelength-Division Multiplexing (WDM)   \n",
       "option 3                                Microwave transmission   \n",
       "option 4                                      All of the above   \n",
       "answer                              option 4: All of the above   \n",
       "explanation  Various solutions have been proposed, includin...   \n",
       "category                                 Research publications   \n",
       "option 5                                     None of the above   \n",
       "\n",
       "                                                          3759  \n",
       "Question_ID                                      question 3759  \n",
       "question     How can image resolution and sensing accuracy ...  \n",
       "option 1                         Using higher power RF signals  \n",
       "option 2                            Using longer exposure time  \n",
       "option 3     Using multiple signals on different frequency ...  \n",
       "option 4               Using higher resolution optical cameras  \n",
       "answer       option 3: Using multiple signals on different ...  \n",
       "explanation  Cooperatively using multiple signals on differ...  \n",
       "category                                 Research publications  \n",
       "option 5                    Using wider communication channels  "
      ]
     },
     "execution_count": 27,
     "metadata": {},
     "output_type": "execute_result"
    }
   ],
   "source": [
    "extra_dataset.sample(2).T"
   ]
  },
  {
   "cell_type": "code",
   "execution_count": 24,
   "metadata": {},
   "outputs": [
    {
     "data": {
      "text/html": [
       "<div>\n",
       "<style scoped>\n",
       "    .dataframe tbody tr th:only-of-type {\n",
       "        vertical-align: middle;\n",
       "    }\n",
       "\n",
       "    .dataframe tbody tr th {\n",
       "        vertical-align: top;\n",
       "    }\n",
       "\n",
       "    .dataframe thead th {\n",
       "        text-align: right;\n",
       "    }\n",
       "</style>\n",
       "<table border=\"1\" class=\"dataframe\">\n",
       "  <thead>\n",
       "    <tr style=\"text-align: right;\">\n",
       "      <th></th>\n",
       "      <th>count</th>\n",
       "      <th>unique</th>\n",
       "      <th>top</th>\n",
       "      <th>freq</th>\n",
       "    </tr>\n",
       "  </thead>\n",
       "  <tbody>\n",
       "    <tr>\n",
       "      <th>Question_ID</th>\n",
       "      <td>10000</td>\n",
       "      <td>10000</td>\n",
       "      <td>question 9999</td>\n",
       "      <td>1</td>\n",
       "    </tr>\n",
       "    <tr>\n",
       "      <th>question</th>\n",
       "      <td>10000</td>\n",
       "      <td>9949</td>\n",
       "      <td>Research Papers</td>\n",
       "      <td>26</td>\n",
       "    </tr>\n",
       "    <tr>\n",
       "      <th>option 1</th>\n",
       "      <td>10000</td>\n",
       "      <td>8922</td>\n",
       "      <td>Bluetooth</td>\n",
       "      <td>20</td>\n",
       "    </tr>\n",
       "    <tr>\n",
       "      <th>option 2</th>\n",
       "      <td>10000</td>\n",
       "      <td>8848</td>\n",
       "      <td>No</td>\n",
       "      <td>15</td>\n",
       "    </tr>\n",
       "    <tr>\n",
       "      <th>option 3</th>\n",
       "      <td>9984</td>\n",
       "      <td>8942</td>\n",
       "      <td>Both option 1 and option 2</td>\n",
       "      <td>17</td>\n",
       "    </tr>\n",
       "    <tr>\n",
       "      <th>option 4</th>\n",
       "      <td>9897</td>\n",
       "      <td>8363</td>\n",
       "      <td>All of the above</td>\n",
       "      <td>536</td>\n",
       "    </tr>\n",
       "    <tr>\n",
       "      <th>answer</th>\n",
       "      <td>10000</td>\n",
       "      <td>9068</td>\n",
       "      <td>option 4: All of the above</td>\n",
       "      <td>490</td>\n",
       "    </tr>\n",
       "    <tr>\n",
       "      <th>explanation</th>\n",
       "      <td>10000</td>\n",
       "      <td>9986</td>\n",
       "      <td>NG-RAN stands for Next Generation Radio Access...</td>\n",
       "      <td>2</td>\n",
       "    </tr>\n",
       "    <tr>\n",
       "      <th>category</th>\n",
       "      <td>10000</td>\n",
       "      <td>5</td>\n",
       "      <td>Research publications</td>\n",
       "      <td>4500</td>\n",
       "    </tr>\n",
       "    <tr>\n",
       "      <th>option 5</th>\n",
       "      <td>6441</td>\n",
       "      <td>5072</td>\n",
       "      <td>None of the above</td>\n",
       "      <td>529</td>\n",
       "    </tr>\n",
       "  </tbody>\n",
       "</table>\n",
       "</div>"
      ],
      "text/plain": [
       "             count unique                                                top  \\\n",
       "Question_ID  10000  10000                                      question 9999   \n",
       "question     10000   9949                                    Research Papers   \n",
       "option 1     10000   8922                                          Bluetooth   \n",
       "option 2     10000   8848                                                 No   \n",
       "option 3      9984   8942                         Both option 1 and option 2   \n",
       "option 4      9897   8363                                   All of the above   \n",
       "answer       10000   9068                         option 4: All of the above   \n",
       "explanation  10000   9986  NG-RAN stands for Next Generation Radio Access...   \n",
       "category     10000      5                              Research publications   \n",
       "option 5      6441   5072                                  None of the above   \n",
       "\n",
       "             freq  \n",
       "Question_ID     1  \n",
       "question       26  \n",
       "option 1       20  \n",
       "option 2       15  \n",
       "option 3       17  \n",
       "option 4      536  \n",
       "answer        490  \n",
       "explanation     2  \n",
       "category     4500  \n",
       "option 5      529  "
      ]
     },
     "execution_count": 24,
     "metadata": {},
     "output_type": "execute_result"
    }
   ],
   "source": [
    "extra_dataset.describe().T"
   ]
  },
  {
   "cell_type": "code",
   "execution_count": 28,
   "metadata": {},
   "outputs": [
    {
     "data": {
      "text/plain": [
       "(1464, 1461)"
      ]
     },
     "execution_count": 28,
     "metadata": {},
     "output_type": "execute_result"
    }
   ],
   "source": [
    "extra_trained = pd.merge(extra_dataset, training, how='inner', on=list(training.columns[1:]))\n",
    "len(extra_trained.drop_duplicates()), len(training.drop_duplicates())"
   ]
  },
  {
   "cell_type": "code",
   "execution_count": 29,
   "metadata": {},
   "outputs": [
    {
     "data": {
      "text/plain": [
       "(367, 366)"
      ]
     },
     "execution_count": 29,
     "metadata": {},
     "output_type": "execute_result"
    }
   ],
   "source": [
    "extra_trained = pd.merge(extra_dataset, testing, how='inner', on=list(testing.columns[1:]))\n",
    "len(extra_trained.drop_duplicates()), len(testing.drop_duplicates())"
   ]
  },
  {
   "cell_type": "code",
   "execution_count": 31,
   "metadata": {},
   "outputs": [
    {
     "data": {
      "text/plain": [
       "366"
      ]
     },
     "execution_count": 31,
     "metadata": {},
     "output_type": "execute_result"
    }
   ],
   "source": [
    "(extra_trained[\"Question_ID_x\"] == extra_trained[\"Question_ID_y\"]).sum()"
   ]
  },
  {
   "cell_type": "code",
   "execution_count": null,
   "metadata": {},
   "outputs": [],
   "source": []
  },
  {
   "cell_type": "code",
   "execution_count": null,
   "metadata": {},
   "outputs": [],
   "source": []
  },
  {
   "cell_type": "code",
   "execution_count": null,
   "metadata": {},
   "outputs": [],
   "source": []
  },
  {
   "cell_type": "code",
   "execution_count": null,
   "metadata": {},
   "outputs": [],
   "source": []
  },
  {
   "cell_type": "code",
   "execution_count": null,
   "metadata": {},
   "outputs": [],
   "source": []
  },
  {
   "cell_type": "code",
   "execution_count": null,
   "metadata": {},
   "outputs": [],
   "source": []
  }
 ],
 "metadata": {
  "kernelspec": {
   "display_name": ".venv",
   "language": "python",
   "name": "python3"
  },
  "language_info": {
   "codemirror_mode": {
    "name": "ipython",
    "version": 3
   },
   "file_extension": ".py",
   "mimetype": "text/x-python",
   "name": "python",
   "nbconvert_exporter": "python",
   "pygments_lexer": "ipython3",
   "version": "3.9.18"
  }
 },
 "nbformat": 4,
 "nbformat_minor": 2
}

{
 "cells": [
  {
   "cell_type": "code",
   "execution_count": 1,
   "metadata": {},
   "outputs": [
    {
     "name": "stdout",
     "output_type": "stream",
     "text": [
      "/data/home/eak/learning/llm_finetuning/specializing-llm-telecom\n"
     ]
    }
   ],
   "source": [
    "%cd .."
   ]
  },
  {
   "cell_type": "code",
   "execution_count": 2,
   "metadata": {},
   "outputs": [],
   "source": [
    "from docx import Document\n",
    "import pandas as pd\n",
    "import numpy as np\n",
    "from glob import glob\n",
    "import os"
   ]
  },
  {
   "cell_type": "code",
   "execution_count": 3,
   "metadata": {},
   "outputs": [
    {
     "data": {
      "text/plain": [
       "554"
      ]
     },
     "execution_count": 3,
     "metadata": {},
     "output_type": "execute_result"
    }
   ],
   "source": [
    "files = glob(\"data/zindi_data/rel18/*.docx\")\n",
    "\n",
    "len(files)"
   ]
  },
  {
   "cell_type": "code",
   "execution_count": 4,
   "metadata": {},
   "outputs": [],
   "source": [
    "path = \"data/zindi_data/rel18/rel_17.docx\"\n",
    "\n",
    "document  = Document(path)"
   ]
  },
  {
   "cell_type": "code",
   "execution_count": 5,
   "metadata": {},
   "outputs": [
    {
     "data": {
      "text/plain": [
       "'3GPP TR 21.917 V17.0.1 (2023-01)'"
      ]
     },
     "execution_count": 5,
     "metadata": {},
     "output_type": "execute_result"
    }
   ],
   "source": [
    "document.paragraphs[0].text"
   ]
  },
  {
   "cell_type": "code",
   "execution_count": 6,
   "metadata": {},
   "outputs": [
    {
     "data": {
      "text/plain": [
       "3299"
      ]
     },
     "execution_count": 6,
     "metadata": {},
     "output_type": "execute_result"
    }
   ],
   "source": [
    "len(document.paragraphs)"
   ]
  },
  {
   "cell_type": "code",
   "execution_count": 7,
   "metadata": {},
   "outputs": [
    {
     "data": {
      "text/plain": [
       "'e)\\tC2 communication mode selection and switching to enable switching between different C2 modes like Network-Assisted C2 communication, Direct C2 communication and UTM navigated C2 communications.'"
      ]
     },
     "execution_count": 7,
     "metadata": {},
     "output_type": "execute_result"
    }
   ],
   "source": [
    "document.paragraphs[1000].text"
   ]
  },
  {
   "cell_type": "code",
   "execution_count": 8,
   "metadata": {},
   "outputs": [
    {
     "data": {
      "text/plain": [
       "3"
      ]
     },
     "execution_count": 8,
     "metadata": {},
     "output_type": "execute_result"
    }
   ],
   "source": [
    "len(document.sections)"
   ]
  },
  {
   "cell_type": "code",
   "execution_count": 9,
   "metadata": {},
   "outputs": [
    {
     "data": {
      "text/plain": [
       "<docx.section.Section at 0x7f94922b3220>"
      ]
     },
     "execution_count": 9,
     "metadata": {},
     "output_type": "execute_result"
    }
   ],
   "source": [
    "document.sections[0]"
   ]
  },
  {
   "cell_type": "code",
   "execution_count": 13,
   "metadata": {},
   "outputs": [],
   "source": [
    "def parse_documents(filename):\n",
    "    doc = Document(filename)\n",
    "    return [\n",
    "        para.text for para in doc.paragraphs\n",
    "\t]"
   ]
  },
  {
   "cell_type": "code",
   "execution_count": 14,
   "metadata": {},
   "outputs": [
    {
     "data": {
      "text/plain": [
       "3299"
      ]
     },
     "execution_count": 14,
     "metadata": {},
     "output_type": "execute_result"
    }
   ],
   "source": [
    "contents = parse_documents(path)\n",
    "len(contents)"
   ]
  },
  {
   "cell_type": "code",
   "execution_count": 15,
   "metadata": {},
   "outputs": [
    {
     "data": {
      "text/html": [
       "<div>\n",
       "<style scoped>\n",
       "    .dataframe tbody tr th:only-of-type {\n",
       "        vertical-align: middle;\n",
       "    }\n",
       "\n",
       "    .dataframe tbody tr th {\n",
       "        vertical-align: top;\n",
       "    }\n",
       "\n",
       "    .dataframe thead th {\n",
       "        text-align: right;\n",
       "    }\n",
       "</style>\n",
       "<table border=\"1\" class=\"dataframe\">\n",
       "  <thead>\n",
       "    <tr style=\"text-align: right;\">\n",
       "      <th></th>\n",
       "      <th>paragraph</th>\n",
       "    </tr>\n",
       "  </thead>\n",
       "  <tbody>\n",
       "    <tr>\n",
       "      <th>972</th>\n",
       "      <td>This section refers to drone being supported a...</td>\n",
       "    </tr>\n",
       "    <tr>\n",
       "      <th>608</th>\n",
       "      <td>For integrity operation, the network will ensu...</td>\n",
       "    </tr>\n",
       "    <tr>\n",
       "      <th>1306</th>\n",
       "      <td>The 5G System architecture enables any Applica...</td>\n",
       "    </tr>\n",
       "    <tr>\n",
       "      <th>1046</th>\n",
       "      <td>-\\tImage Assisted Surgery inside hybrid operat...</td>\n",
       "    </tr>\n",
       "    <tr>\n",
       "      <th>2594</th>\n",
       "      <td>•\\tThe eNB-UP is connected to the eNB-CP, whil...</td>\n",
       "    </tr>\n",
       "    <tr>\n",
       "      <th>1346</th>\n",
       "      <td>•\\tFor FR1, a RedCap UE supports 1 or 2 UE Rx ...</td>\n",
       "    </tr>\n",
       "    <tr>\n",
       "      <th>714</th>\n",
       "      <td>This WI specifies the UE RRM requirements for ...</td>\n",
       "    </tr>\n",
       "    <tr>\n",
       "      <th>1233</th>\n",
       "      <td>7\\tIoT, Industrial IoT, REDuced CAPacity UEs a...</td>\n",
       "    </tr>\n",
       "    <tr>\n",
       "      <th>1797</th>\n",
       "      <td>[2]\\tTS 23.502: \"Procedures for the 5G System ...</td>\n",
       "    </tr>\n",
       "    <tr>\n",
       "      <th>1267</th>\n",
       "      <td></td>\n",
       "    </tr>\n",
       "  </tbody>\n",
       "</table>\n",
       "</div>"
      ],
      "text/plain": [
       "                                              paragraph\n",
       "972   This section refers to drone being supported a...\n",
       "608   For integrity operation, the network will ensu...\n",
       "1306  The 5G System architecture enables any Applica...\n",
       "1046  -\\tImage Assisted Surgery inside hybrid operat...\n",
       "2594  •\\tThe eNB-UP is connected to the eNB-CP, whil...\n",
       "1346  •\\tFor FR1, a RedCap UE supports 1 or 2 UE Rx ...\n",
       "714   This WI specifies the UE RRM requirements for ...\n",
       "1233  7\\tIoT, Industrial IoT, REDuced CAPacity UEs a...\n",
       "1797  [2]\\tTS 23.502: \"Procedures for the 5G System ...\n",
       "1267                                                   "
      ]
     },
     "execution_count": 15,
     "metadata": {},
     "output_type": "execute_result"
    }
   ],
   "source": [
    "data = pd.DataFrame(contents, columns=[\"paragraph\"])\n",
    "data.sample(10)"
   ]
  },
  {
   "cell_type": "code",
   "execution_count": 16,
   "metadata": {},
   "outputs": [
    {
     "data": {
      "text/plain": [
       "count    3299.000000\n",
       "mean      150.320703\n",
       "std       184.525766\n",
       "min         0.000000\n",
       "25%        48.000000\n",
       "50%        86.000000\n",
       "75%       175.500000\n",
       "max      2433.000000\n",
       "Name: paragraph, dtype: float64"
      ]
     },
     "execution_count": 16,
     "metadata": {},
     "output_type": "execute_result"
    }
   ],
   "source": [
    "data[\"paragraph\"].apply(len).describe()"
   ]
  },
  {
   "cell_type": "code",
   "execution_count": 17,
   "metadata": {},
   "outputs": [
    {
     "data": {
      "text/plain": [
       "count    3299.000000\n",
       "mean       23.191876\n",
       "std        29.904911\n",
       "min         0.000000\n",
       "25%         7.000000\n",
       "50%        12.000000\n",
       "75%        27.000000\n",
       "max       406.000000\n",
       "Name: paragraph, dtype: float64"
      ]
     },
     "execution_count": 17,
     "metadata": {},
     "output_type": "execute_result"
    }
   ],
   "source": [
    "data[\"paragraph\"].str.split().apply(len).describe()"
   ]
  },
  {
   "cell_type": "code",
   "execution_count": 18,
   "metadata": {},
   "outputs": [],
   "source": [
    "data[\"n_words\"] = data[\"paragraph\"].str.split().apply(len)\n",
    "data[\"n_char\"] = data[\"paragraph\"].apply(len)"
   ]
  },
  {
   "cell_type": "code",
   "execution_count": 19,
   "metadata": {},
   "outputs": [
    {
     "data": {
      "text/plain": [
       "115"
      ]
     },
     "execution_count": 19,
     "metadata": {},
     "output_type": "execute_result"
    }
   ],
   "source": [
    "(data[\"n_char\"]==0).sum()"
   ]
  },
  {
   "cell_type": "code",
   "execution_count": 23,
   "metadata": {},
   "outputs": [
    {
     "data": {
      "text/plain": [
       "['3GPP TR 21.917 V17.0.1 (2023-01)',\n",
       " 'Technical Report',\n",
       " '3rd Generation Partnership Project;',\n",
       " 'Technical Specification Group Services and System Aspects;',\n",
       " 'Release 17 Description;',\n",
       " 'Summary of Rel-17 Work Items',\n",
       " '(Release 17)',\n",
       " '',\n",
       " '\\t',\n",
       " '',\n",
       " \"The present document has been developed within the 3rd Generation Partnership Project (3GPP TM) and may be further elaborated for the purposes of 3GPP.\\nThe present document has not been subject to any approval process by the 3GPP Organizational Partners and shall not be implemented.\\nThis Report is provided for future development work within 3GPP only. The Organizational Partners accept no liability for any use of this Specification.\\nSpecifications and Reports for implementation of the 3GPP TM system should be obtained via the 3GPP Organizational Partners' Publications Offices.\",\n",
       " '',\n",
       " '',\n",
       " '',\n",
       " '',\n",
       " 'Keywords',\n",
       " 'Description, Summary, Release 17',\n",
       " '',\n",
       " '3GPP',\n",
       " 'Postal address']"
      ]
     },
     "execution_count": 23,
     "metadata": {},
     "output_type": "execute_result"
    }
   ],
   "source": [
    "data.head(20)[\"paragraph\"].tolist()"
   ]
  },
  {
   "cell_type": "code",
   "execution_count": 24,
   "metadata": {},
   "outputs": [
    {
     "data": {
      "text/plain": [
       "['16.5\\tNon-Seamless WLAN offload authentication in 5GS\\t142',\n",
       " '16.6\\tGeneric Bootstrapping Architecture (GBA) into 5GC\\t142',\n",
       " '16.7\\tSecurity Assurance Specification for 5G\\t143',\n",
       " '16.8\\tAdapting BEST for use in 5G networks\\t143',\n",
       " '16.9\\tOther security aspects\\t144',\n",
       " '17\\tSignalling optimisations\\t144',\n",
       " '17.1\\tEnhancement for the 5G Control Plane Steering of Roaming for UE in Connected mode\\t144',\n",
       " '17.2\\tSame PCF selection for AMF and SMF\\t145',\n",
       " '17.3\\tEnhancement of Inter-PLMN Roaming\\t146',\n",
       " '17.4\\tEnhancement on the GTP-U entity restart\\t146',\n",
       " '17.5\\tPacket Flow Description management enhancement\\t147',\n",
       " '17.6\\tPAP/CHAP protocols usage in 5GS\\t147',\n",
       " '17.7\\tStart of Pause of Charging via User Plane\\t148',\n",
       " '17.8\\tEnhancement of Handover Optimization\\t148',\n",
       " '17.9\\tRestoration of Profiles related to UDR\\t149',\n",
       " '17.10\\tIP address pool information from UDM\\t149',\n",
       " '17.11\\tDynamic management of group-based event monitoring\\t149',\n",
       " '17.12\\tDynamically Changing AM Policies in the 5GC\\t150',\n",
       " '17.13\\tOther aspects\\t151',\n",
       " '18\\tStandalone Management Features\\t152',\n",
       " '18.1\\tIntroduction\\t152',\n",
       " '18.2\\tEnhanced Closed loop SLS Assurance\\t152',\n",
       " '18.3\\tEnhancement of QoE Measurement Collection\\t153',\n",
       " '18.4\\tPlug and connect support for management of Network Functions\\t154',\n",
       " '18.5\\tManagement of MDT enhancement in 5G\\t154',\n",
       " '18.6\\tManagement Aspects of 5G Network Sharing\\t155',\n",
       " '18.7\\tDiscovery of management services in 5G\\t155',\n",
       " '18.8\\tManagement of the enhanced tenant concept\\t156',\n",
       " '18.9\\tIntent driven management service for mobile network\\t156',\n",
       " '18.10\\tImproved support for NSA in the service-based management architecture\\t157',\n",
       " '18.11\\tAdditional Network Resource Model features\\t158',\n",
       " '18.12\\t Charging for Local breakout roaming of data connectivity\\t159',\n",
       " '18.13\\tFile Management\\t160',\n",
       " '18.14\\tManagement data collection control and discovery\\t160',\n",
       " '18.15\\tOther charging and management aspects\\t161',\n",
       " '19\\tFeatures without summary\\t162',\n",
       " 'Annex A: Change history\\t163',\n",
       " '',\n",
       " 'Foreword',\n",
       " 'This Technical Report has been produced by the 3rd Generation Partnership Project (3GPP).',\n",
       " 'The contents of the present document are subject to continuing work within the TSG and may change following formal TSG approval. Should the TSG modify the contents of the present document, it will be re-released by the TSG with an identifying change of release date and an increase in version number as follows:',\n",
       " 'Version x.y.z',\n",
       " 'where:',\n",
       " 'x\\tthe first digit:',\n",
       " '1\\tpresented to TSG for information;',\n",
       " '2\\tpresented to TSG for approval;',\n",
       " '3\\tor greater indicates TSG approved document under change control.',\n",
       " 'y\\tthe second digit is incremented for all changes of substance, i.e. technical enhancements, corrections, updates, etc.',\n",
       " 'z\\tthe third digit is incremented when editorial only changes have been incorporated in the document.',\n",
       " 'Introduction',\n",
       " 'The present document provides a summary of each 3GPP Release 17 Feature, and more generally of all Work Items for which a summary has been estimated to be useful.',\n",
       " 'These summaries are based on the inputs issued by the Work Item Rapporteurs, sometimes modified by the Work Plan manager to ensure overall consistency of this document. The original inputs can be retrieved as temporary document (tdoc). The original tdoc number is provided just below the table of each clause.',\n",
       " 'The present document presents the \"current status\" of the Features introduced in Release 17, i.e. as they are by the time of publication of this document. Each Feature can be modified or enhanced, over several years, by the means of Change Requests (CRs). ',\n",
       " 'The list of all the Change Requests related to a Work Item can be retrieved by selecting \"TSG Status = Approved\" in the Work Item page of the 3GPP Portal at:',\n",
       " 'https://portal.3gpp.org/ChangeRequests.aspx?q=1&workitem= [6-digit identifier of the Work Item, separated by a coma if several Work Items]',\n",
       " 'For example, for \"NR support for high speed train scenario\": the table at the beginning of its section indicates that the corresponding Work Items have the numbers 840192 and 840292. So, all the CRs related to this Feature are retrieved by selecting \"TSG Status = Approved\" in https://portal.3gpp.org/ChangeRequests.aspx?q=1&workitem=840192,840292 ',\n",
       " '1\\tScope',\n",
       " 'The present document provides a summary of each Release 17 Feature or, whenever needed, of each significant Work Item. ',\n",
       " \"The information provided in the present document is limited to an overview of each Feature, explaining briefly its purpose and the main lines of the system's behaviour to execute the Feature.\",\n",
       " 'The present document presents the \"initial state\" of the Features introduced in Release 17, i.e. as they are by the time of publication of the present document. Each Feature is subject to be later modified or enhanced, over several years, by the means of Change Requests (CRs). It is therefore recommended to retrieve all the CRs which relate to the given Feature, as explained in Annex C, to further outline a feature at a given time.',\n",
       " '2\\tReferences',\n",
       " 'The following documents contain provisions which, through reference in this text, constitute provisions of the present document.',\n",
       " '-\\tReferences are either specific (identified by date of publication, edition number, version number, etc.) or non-specific.',\n",
       " '-\\tFor a specific reference, subsequent revisions do not apply.',\n",
       " '-\\tFor a non-specific reference, the latest version applies. In the case of a reference to a 3GPP document (including a GSM document), a non-specific reference implicitly refers to the latest version of that document in the same Release as the present document.',\n",
       " '[1]\\tTR\\xa021.905: \"Vocabulary for 3GPP Specifications\".',\n",
       " 'NOTE:\\tDue to the specificity of the present document, consisting in a collection of independent summaries, the references are given at the end of each clause rather than in this clause.',\n",
       " '3\\tDefinitions of terms, symbols and abbreviations',\n",
       " '3.1\\tTerms',\n",
       " 'For the purposes of the present document, the terms given in TR\\xa021.905\\xa0[1] and the following apply. A term defined in the present document takes precedence over the definition of the same term, if any, in TR\\xa021.905\\xa0[1].',\n",
       " '3.2\\tSymbols',\n",
       " 'Void.',\n",
       " '3.3\\t\\tAbbreviations',\n",
       " 'For the purposes of the present document, the abbreviations given in TR\\xa021.905\\xa0[1] and the following apply. \\nAn abbreviation defined in the present document takes precedence over the definition of the same abbreviation, if any, in TR\\xa021.905\\xa0[1]. Abbreviations specific to a given clause are provided in the clause they appear.',\n",
       " 'KPI\\tKey Performance Indicator',\n",
       " 'Rel\\t3GPP Release',\n",
       " '',\n",
       " '4\\tRel-17 Executive Summary',\n",
       " 'Release 17 is dedicated to consolidate and enhance the concepts and functionalities introduced in the previous Releases, while introducing a small number of brand new Features.',\n",
       " 'The improvements relate to all the key areas of the previous Releases: services to the industry (the \"verticals\"), including positioning, private network, etc.; improvements for several aspects of 5G supporting Internet of Things (IoT), both in the Core Network and in the Access Network, of proximity (direct) communications between mobiles, in particular in the context of autonomous driving (V2X), in several media aspects of the user plane related to the entertainment industry (codec, streaming, broadcasting) and also of the support of Mission Critical communications. Furthermore, a number of network functionalities have been improved, e.g. for slicing, traffic steering and Edge-computing.',\n",
       " 'The Radio interface and the Access Network have been significantly improved too (MIMO, Repeaters, 1024QAM modulation for downlink, etc.). While most of the improvements target 5G/NR radio access (or are access-agnostic), some improvements are dedicated to 4G/LTE access. Such improvements are clearly identified in the title and in the chapters where they appear.',\n",
       " 'Note:\\tTo avoid terminology such as \"even further improvements of…\", the successive enhancements are now referred to as \"Phase n\": \"phase 2\" refers to the first series of enhancements, \"Phase 3\" to the enhancements of the enhancements, etc. In this transition Release, the \"Phase n\" way of referring to successive enhancements has not always been used consistently nor enforced.',\n",
       " 'As for the new Features, the main new Feature of this Release is the support of satellite access, and a dedicated chapter covers this topic.',\n",
       " 'Note that the classifications, groupings and order of appearance of the Features in this document reflect a number of choices by the editor as there is no \"3GPP endorsement\" for classification/order. This Executive Summary has also been written by the editor and represents his view.',\n",
       " '5\\tIntegration of satellite components in the 5G architecture',\n",
       " '5.1\\tGeneral traffic (non-IoT)',\n",
       " '5.1.1\\tSA and CT aspects',\n",
       " 'Summary based on the input provided by M. Jean-Yves FINE, Thales in SP-220967, with the assistance of M.\\xa0Amer\\xa0Catovic, Qualcomm, for the \"Terminal and Core Network aspects\".',\n",
       " 'Introduction',\n",
       " 'The \" Integration of satellite components in the 5G architecture” work item adds or enhances a number of features in 5GCore architecture in order to support Non-Terrestrial Networks (NTN), for several use cases:',\n",
       " 'Coverage extension: Many commercial activities, such as agriculture, mining, forestry take place outside inhabited areas. Coverage extension with satellite networks is useful to enable e.g. voice communication, video monitoring, and remote control in uncovered or under-covered areas. ',\n",
       " 'Internet of Things: many Internet-of-Things applications relate to monitoring of assets (e.g. ships, trains, trucks), infrastructure (e.g. bridges, pipelines, railway track), or the environment (e.g. agriculture sensors). In many IoT applications, only small amounts of data are exchanged and communication is optimized for low power usage. Satellite communication should also be able to address these requirements.',\n",
       " 'Disaster communication: Public safety authorities have a responsibility to provide assistance in case of natural disasters. This requires communication, also in cases where because of that disaster the cellular infrastructure is damaged. Satellite communication can be used as fall back for these cases. Ideally the user equipment (UE) and way of working when cellular networks are available should also be usable with satellite access.',\n",
       " 'Global roaming: Applications like tracking and tracing of containers need to be available globally across satellite and terrestrial networks. When a container is in a harbour or transported on a truck, using a terrestrial cellular network is probably most efficient. However, when the container is on a ship in the middle of an ocean, only satellite communication is possible.',\n",
       " 'Broadcasting: Satellite communication is particularly suitable to broadcast the same information over a very wide area. This can also be used in context of 5G mobile edge applications (e.g. mobile gaming), where application content needs to be available in many different edge locations.',\n",
       " '',\n",
       " 'To address such use cases, 3GPP has set Key Performance Indicator (KPI) targets for satellite in TS 22.261 [1].',\n",
       " 'At 5G Core Network architecture level, in SA2, a dedicated study on architecture aspects for using satellite access in 5G (FS_5GSAT_ARCH) was conducted to select the solutions able to cope with satellite specific key issues. The outcome of the study (TR\\xa023.737 [2]) identifies the impacts of satellite integration in the 5GS and solutions to adjust the 5G system accordingly. ',\n",
       " 'The 5GSAT_ARCH work item, following the study, updated architecture specifications (TS\\xa023.501\\xa0[4], TS\\xa023.502 [5], TS\\xa023.503\\xa0[6]) to implement the solutions identified. ',\n",
       " 'In CT1, TR\\xa024.821 [3] studied \"Non-Terrestrial Impact of PLMN selection procedure\" and, following 5GSAT_ARCH_CT, led to update TS\\xa023.122 [7] and TS\\xa024.501\\xa0[8]. ']"
      ]
     },
     "execution_count": 24,
     "metadata": {},
     "output_type": "execute_result"
    }
   ],
   "source": [
    "data[\"paragraph\"].tolist()[200:300]"
   ]
  },
  {
   "cell_type": "code",
   "execution_count": 36,
   "metadata": {},
   "outputs": [
    {
     "data": {
      "text/plain": [
       "94        6.3.4.3\\tMulticast-Broadcast Services (MBS)\\t47\n",
       "95      6.3.4.3.1\\tMulticast-broadcast services in 5G\\t47\n",
       "96      6.3.4.3.2\\tNR multicast and broadcast services...\n",
       "97      6.3.4.3.3\\t5G multicast and broadcast services...\n",
       "98      6.3.4.3.4\\tSecurity Aspects of Enhancements fo...\n",
       "134     9.4.3\\tEnhancements of Self-Organizing Network...\n",
       "185            14.3\\tOther LTE bands-related aspects\\t132\n",
       "427     [13] TS 38.413\\tNG-RAN; NG Application Protoco...\n",
       "428     [14] TS 38.423\\tNG-RAN; NG-RAN; Xn Application...\n",
       "493     [4]\\tTS 36.413\\tE-UTRAN; S1 Application Protoc...\n",
       "494     [5]\\tTS 36.423\\tE-UTRAN; X2 Application Protoc...\n",
       "500     [11]\\tTS 24.301\\tNon-Access-Stratum (NAS) prot...\n",
       "505     [17]\\tTS 29.274\\t3GPP Evolved Packet System (E...\n",
       "673     For NG interface, the new \"Onboarding Support\"...\n",
       "704     [11]\\tTS 24.379: \"Mission Critical Push To Tal...\n",
       "707     [14]\\tTS 24.483: \"Mission Critical Services (M...\n",
       "770     8.\\tThe protocol aspects of the MCPTT service ...\n",
       "773     11.\\tThe protocol aspects of MC services for g...\n",
       "787     [9]\\tTS 24.379 Mission Critical Push To Talk (...\n",
       "788     [10]\\tTS 24.380 Mission Critical Push To Talk ...\n",
       "791     [13]\\tTS 24.483 Mission Critical Services (MCS...\n",
       "818     [11]\\tTS 24.483 Mission Critical Services (MCS...\n",
       "875     8.\\tThe protocol aspects of the MCPTT service ...\n",
       "878     11.\\tThe protocol aspects of MC services for g...\n",
       "892     [9]\\tTS 24.379 Mission Critical Push To Talk (...\n",
       "893     [10]\\tTS 24.380 Mission Critical Push To Talk ...\n",
       "896     [13]\\tTS 24.483 Mission Critical Services (MCS...\n",
       "1092          6.3.4.3\\tMulticast-Broadcast Services (MBS)\n",
       "1093        6.3.4.3.1\\tMulticast-broadcast services in 5G\n",
       "1120       6.3.4.3.2\\tNR multicast and broadcast services\n",
       "1150       6.3.4.3.3\\t5G multicast and broadcast services\n",
       "1169    6.3.4.3.4\\tSecurity Aspects of Enhancements fo...\n",
       "1774    9.4.3\\tEnhancements of Self-Organizing Network...\n",
       "1853    The stage-1, stage-2 and security studies are ...\n",
       "1886    [13]\\tTS 24.301: \"Non-Access-Stratum (NAS) pro...\n",
       "1945    [5]\\tRP-220483, \"RAN2 CRs to UE power saving e...\n",
       "2151    [1]\\tRP-220463 – \"Status report for WI: Core p...\n",
       "2269    [2]\\tRP-220443, SR of Further RRM enhancement ...\n",
       "2507    Channel raster: Band n263 is defined to suppor...\n",
       "2606    The general aspects and principles for E1 inte...\n",
       "2683                14.3\\tOther LTE bands-related aspects\n",
       "2858    The UE indicates its support for EPS UPIP in t...\n",
       "2860    X2AP (TS 36.423), and S1AP (TS 36.413) signall...\n",
       "3138    [3]\\tTS 32.423: \"Telecom management; Subscribe...\n",
       "Name: paragraph, dtype: object"
      ]
     },
     "execution_count": 36,
     "metadata": {},
     "output_type": "execute_result"
    }
   ],
   "source": [
    "data[\"paragraph\"][data[\"paragraph\"].str.contains(\"4.3\")]"
   ]
  },
  {
   "cell_type": "code",
   "execution_count": 40,
   "metadata": {},
   "outputs": [
    {
     "data": {
      "text/plain": [
       "'3GPP TR 21.917 V17.0.1 (2023-01)'"
      ]
     },
     "execution_count": 40,
     "metadata": {},
     "output_type": "execute_result"
    }
   ],
   "source": [
    "document.paragraphs[0].text"
   ]
  },
  {
   "cell_type": "code",
   "execution_count": null,
   "metadata": {},
   "outputs": [],
   "source": []
  }
 ],
 "metadata": {
  "kernelspec": {
   "display_name": ".venv",
   "language": "python",
   "name": "python3"
  },
  "language_info": {
   "codemirror_mode": {
    "name": "ipython",
    "version": 3
   },
   "file_extension": ".py",
   "mimetype": "text/x-python",
   "name": "python",
   "nbconvert_exporter": "python",
   "pygments_lexer": "ipython3",
   "version": "3.9.18"
  }
 },
 "nbformat": 4,
 "nbformat_minor": 2
}

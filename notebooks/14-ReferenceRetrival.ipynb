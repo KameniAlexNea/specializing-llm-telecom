{
 "cells": [
  {
   "cell_type": "code",
   "execution_count": 1,
   "metadata": {},
   "outputs": [],
   "source": [
    "import re\n",
    "\n",
    "def process_document(text: str):\n",
    "    # Define the regex patterns\n",
    "    link_pattern = r'(https?://\\S+)'\n",
    "    reference_pattern = r'^\\[\\d+\\]\\s*[^\\n]+$'\n",
    "    \n",
    "    # Extract links\n",
    "    links = re.findall(link_pattern, text)\n",
    "    for link in links:\n",
    "        text = text.replace(link, \"[link]\")\n",
    "    \n",
    "    # Remove reference lines\n",
    "    text = re.sub(reference_pattern, '', text, flags=re.MULTILINE)\n",
    "    \n",
    "    # Clean up any remaining empty lines\n",
    "    text = re.sub(r'\\n+', '\\n', text).strip()\n",
    "    \n",
    "    return text"
   ]
  },
  {
   "cell_type": "code",
   "execution_count": 2,
   "metadata": {},
   "outputs": [],
   "source": [
    "text = \"\"\"\n",
    "References \n",
    "Related CRs: set \"TSG Status = Approved\" in: https://portal.3gpp.org/ChangeRequests.aspx?q=1&workitem=920010\n",
    "[1]\t3GPP TS 26.502: “5G multicast-broadcast services, User Service architecture”.\n",
    "[2]\t3GPP TS 26.501: “5G Media streaming (5GMS); General description and architecture”.\n",
    "[3]\t3GPP TS 23.247: “Architectural enhancements for 5G multicast-broadcast services”.\n",
    "[4]\t3GPP TS 23.246: “Multimedia Broadcast/Multicast Service (MBMS); Architecture and functional description”.\n",
    "[5]\t3GPP TS 26.346: “Multimedia Broadcast/Multicast Service (MBMS); Protocols and codecs”.\n",
    "[6]\t3GPP TS 26.347: “Multimedia Broadcast/Multicast Service (MBMS); Application Programming Interface and URL”.\n",
    "[7]\t3GPP TS 26.348: \"Northbound Application Programming Interface (API) for Multimedia Broadcast/Multicast Service (MBMS) at the xMB reference point\".\n",
    "[8]\t3GPP TS 26.512: “5G Media Streaming (5GMS); Protocols”.\n",
    "[9]\t3GPP TS 26.517: “5G Multicast-Broadcast User Services; Protocols and Formats”.\n",
    "6.3.4.6\tOther media and broadcast aspects\n",
    "For Frequency bands for broadcast, see the section \"New bands and bandwidth allocation for 5G terrestrial broadcast - part 1\"\n",
    "Other specific broadcasting aspects appear in the sections on \"V2V\" and on \"MC\".\n",
    "For Other Media production, professional video aspects, see section on User Plane.\n",
    "\"\"\"\n",
    "\n",
    "i= process_document(text)"
   ]
  },
  {
   "cell_type": "code",
   "execution_count": 3,
   "metadata": {},
   "outputs": [
    {
     "name": "stdout",
     "output_type": "stream",
     "text": [
      "References \n",
      "Related CRs: set \"TSG Status = Approved\" in: [link]\n",
      "6.3.4.6\tOther media and broadcast aspects\n",
      "For Frequency bands for broadcast, see the section \"New bands and bandwidth allocation for 5G terrestrial broadcast - part 1\"\n",
      "Other specific broadcasting aspects appear in the sections on \"V2V\" and on \"MC\".\n",
      "For Other Media production, professional video aspects, see section on User Plane.\n"
     ]
    }
   ],
   "source": [
    "print(i)"
   ]
  },
  {
   "cell_type": "code",
   "execution_count": null,
   "metadata": {},
   "outputs": [],
   "source": []
  }
 ],
 "metadata": {
  "kernelspec": {
   "display_name": ".venv",
   "language": "python",
   "name": "python3"
  },
  "language_info": {
   "codemirror_mode": {
    "name": "ipython",
    "version": 3
   },
   "file_extension": ".py",
   "mimetype": "text/x-python",
   "name": "python",
   "nbconvert_exporter": "python",
   "pygments_lexer": "ipython3",
   "version": "3.9.18"
  }
 },
 "nbformat": 4,
 "nbformat_minor": 2
}

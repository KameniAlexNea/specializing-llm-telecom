{
 "cells": [
  {
   "cell_type": "code",
   "execution_count": null,
   "metadata": {},
   "outputs": [],
   "source": [
    "%cd .."
   ]
  },
  {
   "cell_type": "code",
   "execution_count": null,
   "metadata": {},
   "outputs": [],
   "source": [
    "import os\n",
    "\n",
    "os.environ[\"TOKENIZERS_PARALLELISM\"] = \"true\"\n",
    "os.environ[\"CUDA_DEVICE_ORDER\"] = \"PCI_BUS_ID\"\n",
    "os.environ[\"CUDA_VISIBLE_DEVICES\"] = \"0\"\n",
    "# os.environ[\"CUDA_LAUNCH_BLOCKING\"] = \"1\"\n",
    "# os.environ[\"TORCH_USE_CUDA_DSA\"] = \"1\""
   ]
  },
  {
   "cell_type": "code",
   "execution_count": null,
   "metadata": {},
   "outputs": [],
   "source": [
    "import json\n",
    "import os\n",
    "import pandas as pd\n",
    "import numpy as np\n",
    "from tqdm import tqdm\n",
    "from glob import glob\n",
    "import re"
   ]
  },
  {
   "cell_type": "code",
   "execution_count": null,
   "metadata": {},
   "outputs": [],
   "source": [
    "def extract_qa(content) -> list[str]:\n",
    "\t# Regex to match <qa>...</qa> and <qa>...\"answer\"...\n",
    "\tqa_pattern = re.compile(r'<qa>(.*?)</qa>|<qa>(.*?answer.*?option \\d.*?explanation.*?)<|eot_id|>', re.DOTALL)\n",
    "\t\n",
    "\tmatches = qa_pattern.findall(content)\n",
    "\t\n",
    "\t# Flatten the list of tuples and filter out empty strings\n",
    "\tmatches: list[str] = [match[0] if match[0] else match[1] for match in matches]\n",
    "\t\n",
    "\treturn [i for  i in matches if i.strip()]\n",
    "\n",
    "files = glob(\"data/generated_qa/QCM_Context/*/*.txt\")\n",
    "\n",
    "len(files)"
   ]
  },
  {
   "cell_type": "code",
   "execution_count": null,
   "metadata": {},
   "outputs": [],
   "source": [
    "n_error = 0\n",
    "ignore_match = 'Question text goes here'"
   ]
  },
  {
   "cell_type": "code",
   "execution_count": null,
   "metadata": {},
   "outputs": [],
   "source": [
    "def parse_qa_content(qa_content: str):\n",
    "    # Define regex patterns for each component\n",
    "    question_pattern = r'question:\\s*(.*?)(?=\\noption)'\n",
    "    option_pattern = r'option\\s+(\\d+):\\s*(.*?)(?=\\noption|\\nanswer)'\n",
    "    answer_pattern = r'answer:\\s*(.*?)\\n'\n",
    "    explanation_pattern = r'explanation:\\s*(.*?)$'\n",
    "    \n",
    "    # Extract components\n",
    "    question = re.search(question_pattern, qa_content, re.DOTALL).group(1).strip()\n",
    "    options = dict(re.findall(option_pattern, qa_content, re.DOTALL))\n",
    "    answer = re.search(answer_pattern, qa_content, re.DOTALL).group(1).strip()\n",
    "    explanation = re.search(explanation_pattern, qa_content, re.DOTALL).group(1).strip()\n",
    "    \n",
    "    # Construct the JSON structure\n",
    "    qa_dict = {\n",
    "        \"question\": question,\n",
    "        \"options\": options,\n",
    "        \"answer\": answer,\n",
    "        \"explanation\": explanation.replace(\"<|eot_id|>\", \"\")\n",
    "    }\n",
    "    \n",
    "    return qa_dict"
   ]
  },
  {
   "cell_type": "code",
   "execution_count": null,
   "metadata": {},
   "outputs": [],
   "source": [
    "def get_questions(file : str):\n",
    "\traw = open(file, \"r\").read()\n",
    "\tmatches = extract_qa(raw)\n",
    "\tmatches = [i for i in matches if i.strip() and (ignore_match not in i)]\n",
    "\tfor match in matches:\n",
    "\t\traw = parse_qa_content(match)\n",
    "\t\tyield raw"
   ]
  },
  {
   "cell_type": "code",
   "execution_count": null,
   "metadata": {},
   "outputs": [],
   "source": [
    "questions = [\n",
    "\tlist(get_questions(file)) for file in files\n",
    "]"
   ]
  },
  {
   "cell_type": "code",
   "execution_count": null,
   "metadata": {},
   "outputs": [],
   "source": [
    "len(questions)"
   ]
  },
  {
   "cell_type": "code",
   "execution_count": null,
   "metadata": {},
   "outputs": [],
   "source": [
    "questions = sum(questions, start=[])"
   ]
  },
  {
   "cell_type": "code",
   "execution_count": null,
   "metadata": {},
   "outputs": [],
   "source": [
    "len(questions)"
   ]
  },
  {
   "cell_type": "code",
   "execution_count": null,
   "metadata": {},
   "outputs": [],
   "source": [
    "questions[10]"
   ]
  },
  {
   "cell_type": "code",
   "execution_count": null,
   "metadata": {},
   "outputs": [],
   "source": [
    "def flatten(raw):\n",
    "    return {\n",
    "        'question': raw['question'],\n",
    "        **{\"option \"+key: value for key, value in raw[\"options\"].items()},\n",
    "        'answer': raw['answer'].split()[1][0],\n",
    "        'explanation': raw['explanation'],\n",
    "\t}\n",
    "\n",
    "question_flatt = list(map(flatten, questions))"
   ]
  },
  {
   "cell_type": "code",
   "execution_count": null,
   "metadata": {},
   "outputs": [],
   "source": [
    "question_flatt[0]"
   ]
  },
  {
   "cell_type": "code",
   "execution_count": null,
   "metadata": {},
   "outputs": [],
   "source": [
    "df = pd.DataFrame(question_flatt)\n"
   ]
  },
  {
   "cell_type": "code",
   "execution_count": null,
   "metadata": {},
   "outputs": [],
   "source": [
    "df.sample(10)"
   ]
  },
  {
   "cell_type": "code",
   "execution_count": null,
   "metadata": {},
   "outputs": [],
   "source": [
    "df.describe()"
   ]
  },
  {
   "cell_type": "code",
   "execution_count": null,
   "metadata": {},
   "outputs": [],
   "source": [
    "df.to_csv(\"data/full_data_v2/generated.csv\", index=False)"
   ]
  },
  {
   "cell_type": "code",
   "execution_count": null,
   "metadata": {},
   "outputs": [],
   "source": [
    "df.shape"
   ]
  },
  {
   "cell_type": "code",
   "execution_count": null,
   "metadata": {},
   "outputs": [],
   "source": [
    "import json\n",
    "import os\n",
    "import pandas as pd\n",
    "import numpy as np\n",
    "from tqdm import tqdm\n",
    "from glob import glob\n",
    "import re"
   ]
  },
  {
   "cell_type": "code",
   "execution_count": null,
   "metadata": {},
   "outputs": [],
   "source": [
    "df = pd.read_json(\"data/zindi_data/TeleQnA_training.json\", ).T"
   ]
  },
  {
   "cell_type": "code",
   "execution_count": null,
   "metadata": {},
   "outputs": [],
   "source": [
    "df.sample(5)"
   ]
  },
  {
   "cell_type": "code",
   "execution_count": null,
   "metadata": {},
   "outputs": [],
   "source": [
    "df[\"category\"].value_counts()"
   ]
  },
  {
   "cell_type": "code",
   "execution_count": null,
   "metadata": {},
   "outputs": [],
   "source": [
    "df = df[df[\"category\"].isin([\"Standards overview\", \"Standards specifications\"])]\n",
    "df.shape"
   ]
  },
  {
   "cell_type": "code",
   "execution_count": null,
   "metadata": {},
   "outputs": [],
   "source": [
    "df[\"answer\"] = df[\"answer\"].apply(lambda x: int(x.split()[1][0]))"
   ]
  },
  {
   "cell_type": "code",
   "execution_count": null,
   "metadata": {},
   "outputs": [],
   "source": [
    "df[[\n",
    "    \"question\", \"option 1\", \"option 2\", \"option 3\", \"option 4\", \"option 5\", \"answer\", \"explanation\"\n",
    "]].to_csv(\"data/full_data_v2/validation.csv\", index=False)"
   ]
  },
  {
   "cell_type": "code",
   "execution_count": null,
   "metadata": {},
   "outputs": [],
   "source": [
    "df[\"answer\"].value_counts()"
   ]
  },
  {
   "cell_type": "code",
   "execution_count": null,
   "metadata": {},
   "outputs": [],
   "source": [
    "generated = pd.read_csv(\"data/full_data_v2/generated.csv\")\n",
    "\n",
    "generated.sample(10)"
   ]
  },
  {
   "cell_type": "code",
   "execution_count": null,
   "metadata": {},
   "outputs": [],
   "source": [
    "generated[\"answer\"].value_counts()"
   ]
  },
  {
   "cell_type": "code",
   "execution_count": null,
   "metadata": {},
   "outputs": [],
   "source": [
    "generated[generated[\"answer\"].isin([str(i) for i in range(1, 6)])][\"answer\"].value_counts()"
   ]
  },
  {
   "cell_type": "code",
   "execution_count": null,
   "metadata": {},
   "outputs": [],
   "source": [
    "generated[generated[\"answer\"].isin([str(i) for i in range(1, 6)])].to_csv(\"data/full_data_v2/generated_solved.csv\")"
   ]
  },
  {
   "cell_type": "code",
   "execution_count": null,
   "metadata": {},
   "outputs": [],
   "source": []
  }
 ],
 "metadata": {
  "kernelspec": {
   "display_name": ".venv",
   "language": "python",
   "name": "python3"
  },
  "language_info": {
   "codemirror_mode": {
    "name": "ipython",
    "version": 3
   },
   "file_extension": ".py",
   "mimetype": "text/x-python",
   "name": "python",
   "nbconvert_exporter": "python",
   "pygments_lexer": "ipython3",
   "version": "3.9.18"
  }
 },
 "nbformat": 4,
 "nbformat_minor": 2
}

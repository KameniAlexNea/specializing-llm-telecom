{
 "cells": [
  {
   "cell_type": "code",
   "execution_count": null,
   "metadata": {},
   "outputs": [],
   "source": [
    "%cd .."
   ]
  },
  {
   "cell_type": "code",
   "execution_count": null,
   "metadata": {},
   "outputs": [],
   "source": [
    "import json\n",
    "import os\n",
    "import pandas as pd\n",
    "import numpy as np\n",
    "from tqdm import tqdm\n",
    "from glob import glob\n",
    "import re"
   ]
  },
  {
   "cell_type": "code",
   "execution_count": null,
   "metadata": {},
   "outputs": [],
   "source": [
    "def extract_qa(content) -> list[str]:\n",
    "\t# Regex to match <qa>...</qa> and <qa>...\"answer\"...\n",
    "\tqa_pattern = re.compile(r'<qa>(.*?)</qa>|<qa>(.*?\"answer\".*?\"option \\d:.*?)<|eot_id|>', re.DOTALL)\n",
    "\t\n",
    "\tmatches = qa_pattern.findall(content)\n",
    "\t\n",
    "\t# Flatten the list of tuples and filter out empty strings\n",
    "\tmatches = [match[0] if match[0] else match[1] for match in matches]\n",
    "\t\n",
    "\treturn matches\n",
    "\n",
    "files = glob(\"data/generated_qa/*/*/*.txt\")"
   ]
  },
  {
   "cell_type": "code",
   "execution_count": null,
   "metadata": {},
   "outputs": [],
   "source": [
    "n_error = 0\n",
    "ignore_match = '\"question\": \"Question text goes here\"'"
   ]
  },
  {
   "cell_type": "code",
   "execution_count": null,
   "metadata": {},
   "outputs": [],
   "source": [
    "def get_questions(file : str):\n",
    "\traw = open(file, \"r\").read()\n",
    "\tmatches = extract_qa(raw)\n",
    "\tmatches = [i for i in matches if i.strip()]\n",
    "\t# if len(matches) != 6:\n",
    "\t# \tprint(len(matches), file)\n",
    "\tfor match in matches:\n",
    "\t\tif not len(match.strip()) or ignore_match in match:\n",
    "\t\t\tcontinue\n",
    "\t\tmatch = match.strip()\n",
    "\t\tif match.endswith(\",\"):\n",
    "\t\t\tmatch = match[:-1]\n",
    "\t\tmatch = \"{\" + match + \"}\"\n",
    "\t\ttry:\n",
    "\t\t\tmatch = json.loads(match.replace('\"answer\": \"answer\":', '\"answer\":').replace('\"\"', '”\"'))\n",
    "\t\t\tmatch[\"source\"] = file\n",
    "\t\t\tyield match\n",
    "\t\texcept:\n",
    "\t\t\tpass"
   ]
  },
  {
   "cell_type": "code",
   "execution_count": null,
   "metadata": {},
   "outputs": [],
   "source": [
    "questions = [\n",
    "\tlist(get_questions(file)) for file in files\n",
    "]"
   ]
  },
  {
   "cell_type": "code",
   "execution_count": null,
   "metadata": {},
   "outputs": [],
   "source": [
    "len(questions)"
   ]
  },
  {
   "cell_type": "code",
   "execution_count": null,
   "metadata": {},
   "outputs": [],
   "source": [
    "questions[10]"
   ]
  },
  {
   "cell_type": "code",
   "execution_count": null,
   "metadata": {},
   "outputs": [],
   "source": [
    "total_questions = sum(questions, start=[])\n",
    "\n",
    "len(total_questions)"
   ]
  },
  {
   "cell_type": "code",
   "execution_count": null,
   "metadata": {},
   "outputs": [],
   "source": [
    "df = pd.DataFrame(total_questions)\n",
    "df.head()"
   ]
  },
  {
   "cell_type": "code",
   "execution_count": null,
   "metadata": {},
   "outputs": [],
   "source": [
    "df.describe()"
   ]
  },
  {
   "cell_type": "code",
   "execution_count": null,
   "metadata": {},
   "outputs": [],
   "source": [
    "df.isna().sum()"
   ]
  },
  {
   "cell_type": "code",
   "execution_count": null,
   "metadata": {},
   "outputs": [],
   "source": [
    "df[df[\"option 5\"].isna()][\"source\"].values[:10]"
   ]
  },
  {
   "cell_type": "code",
   "execution_count": null,
   "metadata": {},
   "outputs": [],
   "source": [
    "options = df[\"answer\"].apply(lambda x: str(x).split(\" \")[1][0])"
   ]
  },
  {
   "cell_type": "code",
   "execution_count": null,
   "metadata": {},
   "outputs": [],
   "source": [
    "options.value_counts()"
   ]
  },
  {
   "cell_type": "code",
   "execution_count": null,
   "metadata": {},
   "outputs": [],
   "source": [
    "df[options == \"o\"]"
   ]
  },
  {
   "cell_type": "code",
   "execution_count": null,
   "metadata": {},
   "outputs": [],
   "source": [
    "df[options == \"m\"]"
   ]
  },
  {
   "cell_type": "code",
   "execution_count": null,
   "metadata": {},
   "outputs": [],
   "source": [
    "df[options == \"a\"]"
   ]
  },
  {
   "cell_type": "code",
   "execution_count": null,
   "metadata": {},
   "outputs": [],
   "source": [
    "df[options == \"p\"]"
   ]
  },
  {
   "cell_type": "code",
   "execution_count": null,
   "metadata": {},
   "outputs": [],
   "source": [
    "df_filtered = df[options.str.isdigit()].copy()\n",
    "print(df_filtered.shape)"
   ]
  },
  {
   "cell_type": "code",
   "execution_count": null,
   "metadata": {},
   "outputs": [],
   "source": [
    "len(options)"
   ]
  },
  {
   "cell_type": "code",
   "execution_count": null,
   "metadata": {},
   "outputs": [],
   "source": [
    "options = df_filtered[\"answer\"].apply(lambda x: int(str(x).split(\" \")[1][0]))\n",
    "df_filtered[\"answer_index\"] = options.values\n",
    "\n",
    "df_filtered.sample(5)"
   ]
  },
  {
   "cell_type": "code",
   "execution_count": null,
   "metadata": {},
   "outputs": [],
   "source": [
    "df_filtered.columns"
   ]
  },
  {
   "cell_type": "code",
   "execution_count": null,
   "metadata": {},
   "outputs": [],
   "source": [
    "df_filtered[[\n",
    "    'question', 'option 1', 'option 2', 'option 3', 'option 4', 'option 5', 'answer_index'\n",
    "]].to_csv(\"data/full_data/generated_v1.csv\", index=False)"
   ]
  },
  {
   "cell_type": "code",
   "execution_count": null,
   "metadata": {},
   "outputs": [],
   "source": [
    "teleqna = pd.DataFrame(json.load(open(\"data/TeleQnA.json\", \"r\"))).T\n",
    "test_qna = pd.DataFrame(json.load(open(\"data/zindi_data/TeleQnA_testing1.json\",))).T\n",
    "\n",
    "\n",
    "teleqna.shape, test_qna.shape"
   ]
  },
  {
   "cell_type": "code",
   "execution_count": null,
   "metadata": {},
   "outputs": [],
   "source": [
    "teleqna.sample(5)"
   ]
  },
  {
   "cell_type": "code",
   "execution_count": null,
   "metadata": {},
   "outputs": [],
   "source": [
    "teleqna[\"answer_index\"] = teleqna[\"answer\"].apply(lambda x: int(str(x).split()[1][0]))\n",
    "teleqna[\"answer_index\"].value_counts()"
   ]
  },
  {
   "cell_type": "code",
   "execution_count": null,
   "metadata": {},
   "outputs": [],
   "source": [
    "teleqna.columns"
   ]
  },
  {
   "cell_type": "code",
   "execution_count": null,
   "metadata": {},
   "outputs": [],
   "source": [
    "\"]\".__contains__(\"]\")"
   ]
  },
  {
   "cell_type": "code",
   "execution_count": null,
   "metadata": {},
   "outputs": [],
   "source": [
    "teleqna[\"question\"].apply(lambda x: str(x).split(\"[\")[-1].__contains__(\"]\")).sum(), len(teleqna)"
   ]
  },
  {
   "cell_type": "code",
   "execution_count": null,
   "metadata": {},
   "outputs": [],
   "source": [
    "teleqna[teleqna.index.isin(test_qna.index)][\n",
    "    ['question', 'option 1', 'option 2', 'option 3', 'option 4', 'option 5', 'answer_index']\n",
    "].to_csv(\"data/full_data/test_data.csv\", index=False)\n",
    "\n",
    "teleqna[~teleqna.index.isin(test_qna.index)][\n",
    "    ['question', 'option 1', 'option 2', 'option 3', 'option 4', 'option 5', 'answer_index']\n",
    "].to_csv(\"data/full_data/train_data.csv\", index=False)"
   ]
  },
  {
   "cell_type": "code",
   "execution_count": null,
   "metadata": {},
   "outputs": [],
   "source": []
  }
 ],
 "metadata": {
  "kernelspec": {
   "display_name": ".venv",
   "language": "python",
   "name": "python3"
  },
  "language_info": {
   "codemirror_mode": {
    "name": "ipython",
    "version": 3
   },
   "file_extension": ".py",
   "mimetype": "text/x-python",
   "name": "python",
   "nbconvert_exporter": "python",
   "pygments_lexer": "ipython3",
   "version": "3.9.18"
  }
 },
 "nbformat": 4,
 "nbformat_minor": 2
}
